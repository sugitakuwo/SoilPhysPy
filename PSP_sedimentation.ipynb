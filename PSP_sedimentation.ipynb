{
 "cells": [
  {
   "cell_type": "code",
   "execution_count": 3,
   "metadata": {},
   "outputs": [
    {
     "name": "stdout",
     "output_type": "stream",
     "text": [
      "Available temp.: [16. 17. 18. 19. 20. 21. 22. 23. 24. 25. 26.]\n",
      "\n",
      "Input temp.: 20\n",
      "\n",
      "Input conc. [g/L] : 10\n",
      "\n",
      "Input particle diamter [um] : 15\n"
     ]
    },
    {
     "data": {
      "text/html": [
       "<div id=\"glowscript\" class=\"glowscript\"></div>"
      ],
      "text/plain": [
       "<IPython.core.display.HTML object>"
      ]
     },
     "metadata": {},
     "output_type": "display_data"
    },
    {
     "data": {
      "application/javascript": [
       "if (typeof Jupyter !== \"undefined\") { window.__context = { glowscript_container: $(\"#glowscript\").removeAttr(\"id\")};}else{ element.textContent = ' ';}"
      ],
      "text/plain": [
       "<IPython.core.display.Javascript object>"
      ]
     },
     "metadata": {},
     "output_type": "display_data"
    },
    {
     "name": "stdout",
     "output_type": "stream",
     "text": [
      "Seconds: 12\n"
     ]
    }
   ],
   "source": [
    "#PSP sedimentation\n",
    "from __future__ import print_function, division\n",
    "from vpython import canvas,vector,color,cylinder,sphere,rate\n",
    "from PSP_readDataFile import readDataFile\n",
    "\n",
    "parDensity=2580.0\n",
    "g=9.80665\n",
    "\n",
    "def getSedTime(solDensity,solVisco,parDiameter,z):\n",
    "    numer=18.0*solVisco*z\n",
    "    denom=(g*(parDensity-solDensity)*(parDiameter*0.00001)**2)\n",
    "    return numer/denom\n",
    "\n",
    "def getSedDepth(solDensity,solVisco,parDiameter,time):\n",
    "#---use same relation in above function---------\n",
    "    numer=(time*g*(parDensity-solDensity)*(parDiameter*0.00001)**2)\n",
    "    denom=18.0*solVisco\n",
    "    return numer/denom\n",
    "\n",
    "def getSolDensity(liqDensity,conc):\n",
    "#---Input in g/L------------------\n",
    "    return liqDensity*(1.0+0.63*(conc/1000.0))\n",
    "\n",
    "def getSolVisco(liqVisco,conc):\n",
    "    return liqVisco*(1.0+4.25*(conc/1000.0))\n",
    "\n",
    "def initScene(Cylheight,parRadius):\n",
    "    scene=canvas(width=600,height=600,exit=True)\n",
    "    scene.center=vector(0,0,0)\n",
    "    scene.forward=vector(0,1,-0.5)\n",
    "#---Setting a cylinder-------------------\n",
    "    SedCyl=cylinder(pos=vector(0,0,0),radius=0.05)\n",
    "    SedCyl.axis=vector(0,0,-Cylheight)\n",
    "    SedCyl.color=color.white\n",
    "    SedCyl.opacity=0.2\n",
    "    particle=sphere(pos=vector(0,0,0), color=color.blue)\n",
    "    particle.radius=min(parRadius*0.001,0.02)\n",
    "    return particle\n",
    "\n",
    "def main():\n",
    "    A, isFileOk=readDataFile(\"waterDensity.dat\",2, '\\t', False)\n",
    "    if ((not isFileOk) or (len(A[0]) < 3)):\n",
    "        print(\"Wrong fole!\\nMissing data or wroung delimiter in line:\",A+1)\n",
    "        return\n",
    "    \n",
    "    temp=A[:,0]\n",
    "    density=A[:,1]\n",
    "    visco=A[:,2]\n",
    "    print(\"Available temp.:\", temp)\n",
    "    \n",
    "    isGoodChoice=False\n",
    "    while not isGoodChoice:\n",
    "        t=float(input(\"\\nInput temp.: \"))\n",
    "        for i in range(len(temp)):\n",
    "            if temp[i]==t:\n",
    "                isGoodChoice=True\n",
    "                liqDensity=density[i]\n",
    "                liqVisco=visco[i]\n",
    "        if not isGoodChoice:\n",
    "            print(\"Warning: not available value\")\n",
    "            \n",
    "    conc=float(input(\"\\nInput conc. [g/L] : \"))\n",
    "    diameter=float(input(\"\\nInput particle diamter [um] : \"))\n",
    "    \n",
    "    solDensity=getSolDensity(liqDensity,conc)\n",
    "    solVisco=getSolVisco(liqVisco,conc)\n",
    "    \n",
    "    Cylheight=0.2\n",
    "    particle=initScene(Cylheight,diameter/2.0)\n",
    "    \n",
    "    time=0\n",
    "    depth=0\n",
    "    while depth < Cylheight:\n",
    "        rate(1)\n",
    "        depth=getSedDepth(solDensity,solVisco,diameter,time)\n",
    "        particle.pos=vector(0,0,-depth)\n",
    "        time+=1\n",
    "    print(\"Seconds:\", time)\n",
    "    \n",
    "main()"
   ]
  },
  {
   "cell_type": "code",
   "execution_count": null,
   "metadata": {},
   "outputs": [],
   "source": []
  }
 ],
 "metadata": {
  "kernelspec": {
   "display_name": "VPython",
   "language": "python",
   "name": "vpython"
  },
  "language_info": {
   "codemirror_mode": {
    "name": "ipython",
    "version": 3
   },
   "file_extension": ".py",
   "mimetype": "text/x-python",
   "name": "python",
   "nbconvert_exporter": "python",
   "pygments_lexer": "ipython3",
   "version": "3.6.7"
  }
 },
 "nbformat": 4,
 "nbformat_minor": 2
}
